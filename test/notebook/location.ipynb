{
 "cells": [
  {
   "cell_type": "code",
   "execution_count": 1,
   "source": [
    "from geopy import distance\n",
    "\n",
    "loc1 = (30.28846, 120.13969)\n",
    "loc2 = (30.28907, 120.13919)\n",
    "\n",
    "distance.geodesic(loc1, loc2).meters"
   ],
   "outputs": [
    {
     "output_type": "execute_result",
     "data": {
      "text/plain": [
       "82.98644782700283"
      ]
     },
     "metadata": {},
     "execution_count": 1
    }
   ],
   "metadata": {}
  }
 ],
 "metadata": {
  "orig_nbformat": 4,
  "language_info": {
   "name": "python",
   "version": "3.9.7",
   "mimetype": "text/x-python",
   "codemirror_mode": {
    "name": "ipython",
    "version": 3
   },
   "pygments_lexer": "ipython3",
   "nbconvert_exporter": "python",
   "file_extension": ".py"
  },
  "kernelspec": {
   "name": "python3",
   "display_name": "Python 3.9.7 64-bit ('edupre': conda)"
  },
  "interpreter": {
   "hash": "d5fd8a07b935224b0c05f93569385c58746fe62385613efd28713be240ae98d0"
  }
 },
 "nbformat": 4,
 "nbformat_minor": 2
}