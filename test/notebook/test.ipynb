{
 "cells": [
  {
   "cell_type": "code",
   "execution_count": 36,
   "source": [
    "#天地图地址编码\n",
    "import requests\n",
    "import json\n",
    "\n",
    "key='2423a38b3af5569af8aa521babc5e349'\n",
    "res=requests.get('http://api.tianditu.gov.cn/geocoder?ds={\"keyWord\":\"杭州初阳幼儿园\"}&tk=2423a38b3af5569af8aa521babc5e349')\n",
    "\n",
    "res.text"
   ],
   "outputs": [
    {
     "output_type": "execute_result",
     "data": {
      "text/plain": [
       "'{\"msg\":\"ok\",\"location\":{\"score\":22,\"level\":\"地名地址\",\"lon\":119.034092,\"lat\":29.602046,\"keyWord\":\"杭州初阳幼儿园\"},\"searchVersion\":\"6.0.0\",\"status\":\"0\"}'"
      ]
     },
     "metadata": {},
     "execution_count": 36
    }
   ],
   "metadata": {}
  },
  {
   "cell_type": "code",
   "execution_count": 7,
   "source": [
    "#天地图逆地址编码\n",
    "import requests\n",
    "import json\n",
    "\n",
    "key='2423a38b3af5569af8aa521babc5e349'\n",
    "res=requests.get(\"http://api.tianditu.gov.cn/geocoder?postStr={'lon':120.048096,'lat':29.303992,'ver':1}&type=geocode&tk=2423a38b3af5569af8aa521babc5e349\")\n",
    "\n",
    "res.text"
   ],
   "outputs": [
    {
     "output_type": "execute_result",
     "data": {
      "text/plain": [
       "'{\"result\":{\"formatted_address\":\"金华市义乌市戚继光路38号C.Y美宠工作室\",\"location\":{\"lon\":120.048096,\"lat\":29.303992},\"addressComponent\":{\"address\":\"戚继光路38号\",\"city\":\"金华市\",\"county_code\":\"156330782\",\"nation\":\"中国\",\"poi_position\":\"西北\",\"county\":\"义乌市\",\"city_code\":\"156330700\",\"address_position\":\"西北\",\"poi\":\"C.Y美宠工作室\",\"province_code\":\"156330000\",\"province\":\"浙江省\",\"road\":\"戚继光路\",\"road_distance\":20,\"poi_distance\":4,\"address_distance\":4}},\"msg\":\"ok\",\"status\":\"0\"}'"
      ]
     },
     "metadata": {},
     "execution_count": 7
    }
   ],
   "metadata": {}
  },
  {
   "cell_type": "code",
   "execution_count": 37,
   "source": [
    "#高德地址编码\n",
    "import requests\n",
    "import json\n",
    "\n",
    "url = 'https://restapi.amap.com/v3/geocode/geo?address=杭州市西湖区&key=6977ecc8c25093a80583a1cb5b2e6155'   \n",
    "params = { 'key': '6977ecc8c25093a80583a1cb5b2e6155',\n",
    "           'address': '杭州初阳幼儿园'   }                \n",
    "res = requests.get(url)\n",
    "res.text"
   ],
   "outputs": [
    {
     "output_type": "execute_result",
     "data": {
      "text/plain": [
       "'{\"status\":\"1\",\"info\":\"OK\",\"infocode\":\"10000\",\"count\":\"1\",\"geocodes\":[{\"formatted_address\":\"浙江省杭州市西湖区\",\"country\":\"中国\",\"province\":\"浙江省\",\"citycode\":\"0571\",\"city\":\"杭州市\",\"district\":\"西湖区\",\"township\":[],\"neighborhood\":{\"name\":[],\"type\":[]},\"building\":{\"name\":[],\"type\":[]},\"adcode\":\"330106\",\"street\":[],\"number\":[],\"location\":\"120.130203,30.259324\",\"level\":\"区县\"}]}'"
      ]
     },
     "metadata": {},
     "execution_count": 37
    }
   ],
   "metadata": {}
  },
  {
   "cell_type": "code",
   "execution_count": 3,
   "source": [
    "#天地图静态地图标注\n",
    "import requests\n",
    "import json\n",
    "\n",
    "tianditukey='2423a38b3af5569af8aa521babc5e349'\n",
    "res=requests.get('http://api.tianditu.gov.cn/staticimage?center=120.062851,30.293327&width=500&height=500&zoom=15&layers=vec_c,cva_c&markers=120.062851,30.293327|120.069555,30.290746&tk=2423a38b3af5569af8aa521babc5e349')\n",
    "\n",
    "with open('./t.png', 'wb') as f:\n",
    "    f.write(res.content)\n"
   ],
   "outputs": [],
   "metadata": {}
  },
  {
   "cell_type": "code",
   "execution_count": 32,
   "source": [
    "#高德静态地图标注\n",
    "import requests\n",
    "import json\n",
    "\n",
    "gaodekey='6977ecc8c25093a80583a1cb5b2e6155'\n",
    "res=requests.get('https://restapi.amap.com/v3/staticmap?zoom=15&markers=mid,0xFF0000,A:120.067619,30.291244&key={}'.format(gaodekey))\n",
    "\n",
    "with open('./g.png', 'wb') as f:\n",
    "    f.write(res.content)"
   ],
   "outputs": [],
   "metadata": {}
  },
  {
   "cell_type": "code",
   "execution_count": 40,
   "source": [
    "#高德POI数据获取\n",
    "import requests\n",
    "import json\n",
    "\n",
    "gaodekey='6977ecc8c25093a80583a1cb5b2e6155'\n",
    "res=requests.get('https://restapi.amap.com/v5/place/text?types=141204&region=330106&city_limit=true&key={}'.format(gaodekey))\n",
    "\n",
    "res.text"
   ],
   "outputs": [
    {
     "output_type": "execute_result",
     "data": {
      "text/plain": [
       "'{\"status\":\"1\",\"info\":\"OK\",\"infocode\":\"10000\",\"pois\":[{\"name\":\"爱嘉幼学托育园\",\"id\":\"B0HB4HA47B\",\"location\":\"120.108808,30.269882\",\"type\":\"科教文化服务;学校;幼儿园\",\"typecode\":\"141204\",\"pname\":\"浙江省\",\"cityname\":\"杭州市\",\"adname\":\"西湖区\",\"address\":\"山水人家彩云天会馆1层(蚂蚁金服对面)\",\"pcode\":\"330000\",\"citycode\":\"0571\",\"adcode\":\"330106\"},{\"name\":\"莲花港幼儿园新城园区\",\"id\":\"B023B1DM1N\",\"location\":\"120.114701,30.284017\",\"type\":\"科教文化服务;学校;幼儿园\",\"typecode\":\"141204\",\"pname\":\"浙江省\",\"cityname\":\"杭州市\",\"adname\":\"西湖区\",\"address\":\"益乐路100号\",\"pcode\":\"330000\",\"citycode\":\"0571\",\"adcode\":\"330106\"},{\"name\":\"翠苑第三幼儿园\",\"id\":\"B023B091RO\",\"location\":\"120.120725,30.290563\",\"type\":\"科教文化服务;学校;幼儿园\",\"typecode\":\"141204\",\"pname\":\"浙江省\",\"cityname\":\"杭州市\",\"adname\":\"西湖区\",\"address\":\"翠苑新村三区63号\",\"pcode\":\"330000\",\"citycode\":\"0571\",\"adcode\":\"330106\"},{\"name\":\"文新学前教育集团金地幼儿园\",\"id\":\"B0FFFZIRNI\",\"location\":\"120.069289,30.330682\",\"type\":\"科教文化服务;学校;幼儿园\",\"typecode\":\"141204\",\"pname\":\"浙江省\",\"cityname\":\"杭州市\",\"adname\":\"西湖区\",\"address\":\"欣然街111号附近\",\"pcode\":\"330000\",\"citycode\":\"0571\",\"adcode\":\"330106\"},{\"name\":\"蓝天幼儿园(周浦线)\",\"id\":\"B023B0AC8H\",\"location\":\"120.074890,30.090810\",\"type\":\"科教文化服务;学校;幼儿园\",\"typecode\":\"141204\",\"pname\":\"浙江省\",\"cityname\":\"杭州市\",\"adname\":\"西湖区\",\"address\":\"双浦镇三阳村408号(中共杭州市双浦镇委员会东)\",\"pcode\":\"330000\",\"citycode\":\"0571\",\"adcode\":\"330106\"},{\"name\":\"杭州市西湖区金太阳幼儿园\",\"id\":\"B0FFFDKMIB\",\"location\":\"120.090999,30.256317\",\"type\":\"科教文化服务;学校;幼儿园\",\"typecode\":\"141204\",\"pname\":\"浙江省\",\"cityname\":\"杭州市\",\"adname\":\"西湖区\",\"address\":\"西溪路老东岳10号\",\"pcode\":\"330000\",\"citycode\":\"0571\",\"adcode\":\"330106\"},{\"name\":\"小桔灯幼儿园\",\"id\":\"B0FFG878UJ\",\"location\":\"120.075362,30.239958\",\"type\":\"科教文化服务;学校;幼儿园\",\"typecode\":\"141204\",\"pname\":\"浙江省\",\"cityname\":\"杭州市\",\"adname\":\"西湖区\",\"address\":\"西溪路杨家牌楼2号\",\"pcode\":\"330000\",\"citycode\":\"0571\",\"adcode\":\"330106\"},{\"name\":\"杭州市西湖区西溪花园幼儿园\",\"id\":\"B023B0BV4I\",\"location\":\"120.061002,30.283909\",\"type\":\"科教文化服务;学校;幼儿园\",\"typecode\":\"141204\",\"pname\":\"浙江省\",\"cityname\":\"杭州市\",\"adname\":\"西湖区\",\"address\":\"晴川街573号\",\"pcode\":\"330000\",\"citycode\":\"0571\",\"adcode\":\"330106\"},{\"name\":\"和庄幼儿园\",\"id\":\"B0FFGASZUR\",\"location\":\"120.072188,30.257188\",\"type\":\"科教文化服务;学校;幼儿园\",\"typecode\":\"141204\",\"pname\":\"浙江省\",\"cityname\":\"杭州市\",\"adname\":\"西湖区\",\"address\":\"天目山路383号\",\"pcode\":\"330000\",\"citycode\":\"0571\",\"adcode\":\"330106\"},{\"name\":\"杭州市文新幼儿园富城园区\",\"id\":\"B0FFFA88O8\",\"location\":\"120.124152,30.292765\",\"type\":\"科教文化服务;学校;幼儿园\",\"typecode\":\"141204\",\"pname\":\"浙江省\",\"cityname\":\"杭州市\",\"adname\":\"西湖区\",\"address\":\"庆隆路20号翠苑佳居内\",\"pcode\":\"330000\",\"citycode\":\"0571\",\"adcode\":\"330106\"}],\"count\":\"10\"}'"
      ]
     },
     "metadata": {},
     "execution_count": 40
    }
   ],
   "metadata": {}
  },
  {
   "cell_type": "code",
   "execution_count": 50,
   "source": [
    "#百度地址编码\n",
    "import requests\n",
    "import json\n",
    "\n",
    "baidukey='v4YOvobXA6CKDXzW2GjcrxAggIqByx7U'\n",
    "res=requests.get('https://api.map.baidu.com/geocoding/v3/?address=杭州初阳幼儿园&output=json&ak={}&callback=showLocation'.format(baidukey))\n",
    "\n",
    "res.text"
   ],
   "outputs": [
    {
     "output_type": "execute_result",
     "data": {
      "text/plain": [
       "'showLocation&&showLocation({\"status\":0,\"result\":{\"location\":{\"lng\":120.07434156570929,\"lat\":30.296802049747304},\"precise\":1,\"confidence\":70,\"comprehension\":100,\"level\":\"教育\"}})'"
      ]
     },
     "metadata": {},
     "execution_count": 50
    }
   ],
   "metadata": {}
  },
  {
   "cell_type": "code",
   "execution_count": 56,
   "source": [
    "#百度静态图标注\n",
    "import requests\n",
    "import json\n",
    "\n",
    "baidukey='v4YOvobXA6CKDXzW2GjcrxAggIqByx7U'\n",
    "res=requests.get('https://api.map.baidu.com/staticimage/v2?ak={}&center=120.074341,30.2968020&width=400&height=400&zoom=18&markers=120.074341,30.2968020'.format(baidukey))\n",
    "\n",
    "with open('./b.png', 'wb') as f:\n",
    "    f.write(res.content)"
   ],
   "outputs": [],
   "metadata": {}
  },
  {
   "cell_type": "code",
   "execution_count": 48,
   "source": [
    "#百度POI获取\n",
    "import requests\n",
    "import json\n",
    "\n",
    "baidukey='v4YOvobXA6CKDXzW2GjcrxAggIqByx7U'\n",
    "res=requests.get('https://api.map.baidu.com/place/v2/search?query=幼儿园&tag=幼儿园&region=杭州市西湖区&output=json&ak={}'.format(baidukey))\n",
    "\n",
    "res.text"
   ],
   "outputs": [
    {
     "output_type": "execute_result",
     "data": {
      "text/plain": [
       "'{\\n    \"status\":0,\\n    \"message\":\"ok\",\\n    \"result_type\":\"poi_type\",\\n    \"results\":[\\n        {\\n            \"name\":\"杭州市西湖区文苑幼儿园(紫荆花路)\",\\n            \"location\":{\\n                \"lat\":30.284851,\\n                \"lng\":120.100468\\n            },\\n            \"address\":\"浙江省杭州市西湖区紫荆花路106号\",\\n            \"province\":\"浙江省\",\\n            \"city\":\"杭州市\",\\n            \"area\":\"西湖区\",\\n            \"street_id\":\"3f826ed3deeb5145d1f49ecd\",\\n            \"detail\":1,\\n            \"uid\":\"3f826ed3deeb5145d1f49ecd\"\\n        },\\n        {\\n            \"name\":\"杭州市和苑幼儿园\",\\n            \"location\":{\\n                \"lat\":30.309468,\\n                \"lng\":120.108291\\n            },\\n            \"address\":\"竞舟北路118号\",\\n            \"province\":\"浙江省\",\\n            \"city\":\"杭州市\",\\n            \"area\":\"西湖区\",\\n            \"street_id\":\"d3d2c24342e5b8cfc7f50d8a\",\\n            \"detail\":1,\\n            \"uid\":\"d3d2c24342e5b8cfc7f50d8a\"\\n        },\\n        {\\n            \"name\":\"杭州市乐莺幼儿园\",\\n            \"location\":{\\n                \"lat\":30.330992,\\n                \"lng\":120.100596\\n            },\\n            \"address\":\"三墩镇长阳路8号\",\\n            \"province\":\"浙江省\",\\n            \"city\":\"杭州市\",\\n            \"area\":\"西湖区\",\\n            \"street_id\":\"85b174da1cba907f28b97ce7\",\\n            \"telephone\":\"(0571)87293090\",\\n            \"detail\":1,\\n            \"uid\":\"85b174da1cba907f28b97ce7\"\\n        },\\n        {\\n            \"name\":\"杭州市西湖区紫荆幼儿园(诚园园区)\",\\n            \"location\":{\\n                \"lat\":30.296233,\\n                \"lng\":120.087951\\n            },\\n            \"address\":\"杭州市西湖区紫霞街杭州市西溪实验学校东北侧约270米\",\\n            \"province\":\"浙江省\",\\n            \"city\":\"杭州市\",\\n            \"area\":\"西湖区\",\\n            \"street_id\":\"1428fcfae941d3c3f60e77ee\",\\n            \"detail\":1,\\n            \"uid\":\"1428fcfae941d3c3f60e77ee\"\\n        },\\n        {\\n            \"name\":\"武林门幼儿园(武林巷)\",\\n            \"location\":{\\n                \"lat\":30.282547,\\n                \"lng\":120.157583\\n            },\\n            \"address\":\"杭州市西湖区武林巷3号\",\\n            \"province\":\"浙江省\",\\n            \"city\":\"杭州市\",\\n            \"area\":\"西湖区\",\\n            \"street_id\":\"691305230ade9b09725e8001\",\\n            \"telephone\":\"(0571)56312810,(0571)88081693\",\\n            \"detail\":1,\\n            \"uid\":\"691305230ade9b09725e8001\"\\n        },\\n        {\\n            \"name\":\"杭师大幼儿园\",\\n            \"location\":{\\n                \"lat\":30.287146,\\n                \"lng\":120.142672\\n            },\\n            \"address\":\"杭州市西湖区教工路142号\",\\n            \"province\":\"浙江省\",\\n            \"city\":\"杭州市\",\\n            \"area\":\"西湖区\",\\n            \"street_id\":\"341c35dee540a9bce607387a\",\\n            \"telephone\":\"(0571)88804171\",\\n            \"detail\":1,\\n            \"uid\":\"341c35dee540a9bce607387a\"\\n        },\\n        {\\n            \"name\":\"杭州市西湖区启蒙幼儿园\",\\n            \"location\":{\\n                \"lat\":30.333006,\\n                \"lng\":120.094823\\n            },\\n            \"address\":\"灯彩街50号\",\\n            \"province\":\"浙江省\",\\n            \"city\":\"杭州市\",\\n            \"area\":\"西湖区\",\\n            \"street_id\":\"fa7da3e8d9efb81f42d63ee8\",\\n            \"telephone\":\"(0571)88491310\",\\n            \"detail\":1,\\n            \"uid\":\"fa7da3e8d9efb81f42d63ee8\"\\n        },\\n        {\\n            \"name\":\"莲花港幼儿园(新城园区)\",\\n            \"location\":{\\n                \"lat\":30.290291,\\n                \"lng\":120.12113\\n            },\\n            \"address\":\"浙江省杭州市西湖区益乐路100号\",\\n            \"province\":\"浙江省\",\\n            \"city\":\"杭州市\",\\n            \"area\":\"西湖区\",\\n            \"street_id\":\"a937f2d0d4d7b43ca2046498\",\\n            \"telephone\":\"(0571)89931087\",\\n            \"detail\":1,\\n            \"uid\":\"a937f2d0d4d7b43ca2046498\"\\n        },\\n        {\\n            \"name\":\"新世纪幼儿园(古墩路店)\",\\n            \"location\":{\\n                \"lat\":30.330808,\\n                \"lng\":120.097275\\n            },\\n            \"address\":\"三墩镇古墩路1105号\",\\n            \"province\":\"浙江省\",\\n            \"city\":\"杭州市\",\\n            \"area\":\"西湖区\",\\n            \"street_id\":\"c16534059e0ea478ab175a0b\",\\n            \"detail\":1,\\n            \"uid\":\"c16534059e0ea478ab175a0b\"\\n        },\\n        {\\n            \"name\":\"西点幼儿园\",\\n            \"location\":{\\n                \"lat\":30.291371,\\n                \"lng\":120.111445\\n            },\\n            \"address\":\"竞舟路360号\",\\n            \"province\":\"浙江省\",\\n            \"city\":\"杭州市\",\\n            \"area\":\"西湖区\",\\n            \"street_id\":\"9f97b1c5a9709907b64f540b\",\\n            \"telephone\":\"(0571)88237940\",\\n            \"detail\":1,\\n            \"uid\":\"9f97b1c5a9709907b64f540b\"\\n        }\\n    ]\\n}'"
      ]
     },
     "metadata": {},
     "execution_count": 48
    }
   ],
   "metadata": {}
  },
  {
   "cell_type": "code",
   "execution_count": 2,
   "source": [
    "import sys\n",
    "sys.path.append(sys.path[0]+\"/../..\")\n",
    "#print(sys.path)\n",
    "from txt2poi import tianditu_display\n",
    "\n",
    "key='2423a38b3af5569af8aa521babc5e349'\n",
    "loc = (120.069555,30.290746)\n",
    "print(loc[0])\n",
    "tianditu_display(key, mid, loc)"
   ],
   "outputs": [
    {
     "output_type": "stream",
     "name": "stdout",
     "text": [
      "120.069555\n"
     ]
    }
   ],
   "metadata": {}
  },
  {
   "cell_type": "code",
   "execution_count": 3,
   "source": [
    "%%html\n",
    "<img src='t.png', width=300, height=300>\n",
    "<img src='g.png', width=300, height=300>\n",
    "<img src='b.png', width=300, height=300>"
   ],
   "outputs": [
    {
     "output_type": "display_data",
     "data": {
      "text/html": [
       "<img src='t.png', width=300, height=300>\n",
       "<img src='g.png', width=300, height=300>\n",
       "<img src='b.png', width=300, height=300>\n"
      ],
      "text/plain": [
       "<IPython.core.display.HTML object>"
      ]
     },
     "metadata": {}
    }
   ],
   "metadata": {}
  },
  {
   "cell_type": "code",
   "execution_count": 3,
   "source": [
    "import sys\n",
    "sys.path.append(sys.path[0]+\"/../..\")\n",
    "from data_process import DataProcess\n",
    "\n",
    "data = DataProcess().get_allschoolname(area='西湖区', type='学前教育')\n",
    "\n",
    "for i, row in data.iterrows():\n",
    "    print(row['name'])"
   ],
   "outputs": [
    {
     "output_type": "stream",
     "name": "stdout",
     "text": [
      "浙江省级机关北山幼儿园\n",
      "杭州初阳幼儿园有限公司\n",
      "杭州市西湖区紫金港幼儿园\n",
      "浙江大学幼儿园玉泉分园\n",
      "杭州市西湖区山水学前教育集团（总园）\n",
      "杭州市金都中心幼儿园\n",
      "杭州西溪伟才幼儿园有限公司\n",
      "浙江大学幼儿园西溪分园\n",
      "杭州市西湖区政苑幼儿园\n",
      "杭州市西湖区转塘幼儿园\n",
      "杭州市西湖区莲花港幼儿园\n",
      "杭州师范大学幼儿园\n",
      "杭州市西湖区文新学前教育集团（总园）\n",
      "杭州市西湖区小和山幼儿园\n",
      "杭州普普幼儿园有限公司\n",
      "浙江大学幼儿园实验园\n",
      "杭州市西湖区之江幼儿园\n",
      "杭州市西点幼儿园\n",
      "杭州市西湖区自在城幼儿园\n",
      "杭州市西湖区乐迪幼儿园\n",
      "杭州云谷幼儿园\n",
      "杭州市西湖区东方幼儿园\n",
      "杭州西湖风景名胜区龙井幼儿园\n",
      "杭州市西湖区枫华府第幼儿园\n",
      "杭州市西湖区紫荆幼儿园\n",
      "浙江省交通运输厅幼儿园\n",
      "杭州市西湖区文苑幼儿园\n",
      "杭州市西湖区和家园幼儿园\n",
      "杭州市西湖区凯乐幼儿园\n",
      "浙江省级机关保俶幼儿园\n",
      "杭州市西湖区古荡幼儿园\n",
      "杭州市西湖区翠苑第三幼儿园\n",
      "杭州市西湖区天虹幼儿园\n",
      "杭州市西湖区蓝精灵幼儿园\n",
      "杭州市西湖区袁浦幼儿园\n",
      "杭州市西湖区新天地幼儿园\n",
      "杭州市西湖区九莲幼儿园\n",
      "杭州市西湖区留下幼儿园\n",
      "杭州市西湖区龙坞幼儿园\n",
      "杭州市西湖区启蒙幼儿园\n",
      "杭州市西湖区西溪花园幼儿园\n",
      "杭州市西湖区大禹路幼儿园\n",
      "杭州市西湖区小桔灯幼儿园\n",
      "杭州市西湖区石灰桥幼儿园\n",
      "杭州市西湖区三坝幼儿园\n",
      "杭州市西湖区西子湖幼儿园\n",
      "杭州绿城育华幼儿园\n",
      "杭州市西湖区文鼎苑幼儿园\n",
      "杭州市西湖区智多星幼儿园\n",
      "杭州市西湖区乐莺幼儿园\n",
      "杭州市西湖区大大树幼儿园\n",
      "杭州市和苑幼儿园\n",
      "杭州市西湖区回龙幼儿园\n",
      "杭州市西湖区翠苑第一幼儿园\n",
      "杭州市西湖区文新绿城育华幼儿园\n",
      "杭州市西湖区蒋村花园幼儿园\n",
      "杭州市西湖区沁雅幼儿园\n",
      "杭州市西湖区翠苑第二幼儿园\n",
      "杭州市西湖区大樟树幼儿园\n",
      "杭州市西湖区周浦幼儿园\n",
      "杭州西湖风景名胜区茅家埠幼儿园\n",
      "杭州市西湖区金太阳幼儿园\n",
      "杭州市西湖区小天使幼儿园\n",
      "杭州市西湖区新蕾幼儿园\n",
      "杭州市西湖区申花路幼儿园\n",
      "杭州市西湖区华门托儿所\n",
      "杭州市西湖区午山幼儿园\n",
      "杭州市西湖区三墩镇中心幼儿园\n",
      "浙江师范大学杭州幼儿师范学院附属幼儿园\n",
      "中国人民解放军第一一七医院幼儿园\n",
      "杭州市西湖区翠苑第四幼儿园\n",
      "杭州市西湖区象山幼儿园\n",
      "杭州市西湖区闻裕顺学前教育集团（总园）\n",
      "杭州市西湖区百家园路幼儿园\n",
      "杭州市西湖区学院路幼儿园\n",
      "中国人民解放军浙江省军区机关汪庄幼儿园\n",
      "杭州市西湖区育博幼儿园\n",
      "杭州市陳经纶体育幼儿园\n",
      "浙江省级机关府苑幼儿园\n",
      "杭州市西湖区定山幼儿园\n",
      "杭州市西湖区海鸿幼儿园\n",
      "杭州市西湖区甲来路幼儿园\n",
      "中国人民解放军73021部队星星艺术幼儿园\n",
      "浙江省级机关武林门幼儿园\n",
      "杭州市西湖区景汇幼儿园\n",
      "杭州市西湖区名苑学前教育集团（总园）\n"
     ]
    }
   ],
   "metadata": {}
  }
 ],
 "metadata": {
  "orig_nbformat": 4,
  "language_info": {
   "name": "python",
   "version": "3.9.7",
   "mimetype": "text/x-python",
   "codemirror_mode": {
    "name": "ipython",
    "version": 3
   },
   "pygments_lexer": "ipython3",
   "nbconvert_exporter": "python",
   "file_extension": ".py"
  },
  "kernelspec": {
   "name": "python3",
   "display_name": "Python 3.9.7 64-bit ('edupre': conda)"
  },
  "interpreter": {
   "hash": "d5fd8a07b935224b0c05f93569385c58746fe62385613efd28713be240ae98d0"
  }
 },
 "nbformat": 4,
 "nbformat_minor": 2
}